{
 "cells": [
  {
   "cell_type": "markdown",
   "id": "35d27b06-97c8-4c65-9548-be1dd52f9172",
   "metadata": {},
   "source": [
    "## Import Libraries"
   ]
  },
  {
   "cell_type": "code",
   "execution_count": 1,
   "id": "97932a34-8931-4f26-a137-d4376bf5af60",
   "metadata": {},
   "outputs": [],
   "source": [
    "import re\n",
    "import os\n",
    "import pandas as pd\n",
    "import subprocess\n",
    "import PyPDF2\n",
    "\n",
    "import spacy\n",
    "from spacy.pipeline import EntityRuler\n",
    "from spacy import displacy\n",
    "\n",
    "import nltk\n",
    "from nltk.corpus import stopwords\n",
    "from nltk.stem import WordNetLemmatizer\n",
    "from nltk.tokenize import word_tokenize\n",
    "\n",
    "from sklearn.feature_extraction.text import TfidfVectorizer\n",
    "from sklearn.metrics.pairwise import cosine_similarity"
   ]
  },
  {
   "cell_type": "markdown",
   "id": "9e6010ad-eef6-4d6e-86da-18813f651098",
   "metadata": {},
   "source": [
    "## Convert PDF to CSV"
   ]
  },
  {
   "cell_type": "code",
   "execution_count": 2,
   "id": "0a303dd5-4975-451c-8336-84d3359c1fb1",
   "metadata": {},
   "outputs": [
    {
     "name": "stdout",
     "output_type": "stream",
     "text": [
      "Resumes saved to data/resumes.csv\n"
     ]
    }
   ],
   "source": [
    "def extract_text_from_pdf(pdf_path):\n",
    "    text = ''\n",
    "    with open(pdf_path, 'rb') as file:\n",
    "        reader = PyPDF2.PdfReader(file)\n",
    "        for page in reader.pages:\n",
    "            text += page.extract_text()\n",
    "    return text\n",
    "\n",
    "# Path to the 'data' folder containing the PDF resumes\n",
    "data_folder = 'data'\n",
    "\n",
    "# List of PDF file names containing resumes\n",
    "pdf_files = [\n",
    "    'CV_Kanika.pdf',\n",
    "    'CV_Mythily.pdf',\n",
    "    'CV_Nikhil.pdf'\n",
    "]\n",
    "\n",
    "# Full paths to the PDF files\n",
    "pdf_paths = [os.path.join(data_folder, pdf_file) for pdf_file in pdf_files]\n",
    "\n",
    "# Extract text from each PDF resume and store it in a list\n",
    "resumes_text = [extract_text_from_pdf(pdf_path) for pdf_path in pdf_paths]\n",
    "\n",
    "# Create a DataFrame with columns 'ID' and 'resume_text'\n",
    "data = pd.DataFrame({'ID': range(1, len(pdf_files) + 1), 'resume_text': resumes_text})\n",
    "\n",
    "# Path to save the CSV file\n",
    "output_csv_path = os.path.join(data_folder, 'resumes.csv')\n",
    "\n",
    "# Save the DataFrame to a CSV file\n",
    "data.to_csv(output_csv_path, index=False)\n",
    "\n",
    "print(f\"Resumes saved to {output_csv_path}\")"
   ]
  },
  {
   "cell_type": "markdown",
   "id": "9ba6a1ea-4a3a-429a-8a2d-41e3d7fa6197",
   "metadata": {},
   "source": [
    "## Loading the Data and NER model"
   ]
  },
  {
   "cell_type": "code",
   "execution_count": 3,
   "id": "23f34def-6ff3-4ab1-901c-09e49ee95ece",
   "metadata": {},
   "outputs": [],
   "source": [
    "# Load data from CSV file\n",
    "data = pd.read_csv('data/resumes.csv')"
   ]
  },
  {
   "cell_type": "markdown",
   "id": "e85be068-e17d-449a-ab90-256fa629b079",
   "metadata": {},
   "source": [
    "## Downlaod and Load NER model"
   ]
  },
  {
   "cell_type": "code",
   "execution_count": 4,
   "id": "f7fb06fb-7432-48ba-8987-a795ccc844fb",
   "metadata": {},
   "outputs": [],
   "source": [
    "def suppress_output(command):\n",
    "    with open(os.devnull, 'w') as devnull:\n",
    "        subprocess.run(command, stdout=devnull, stderr=devnull)\n",
    "\n",
    "# Suppress the output of the spacy download command\n",
    "suppress_output(['python', '-m', 'spacy', 'download', 'en_core_web_sm'])"
   ]
  },
  {
   "cell_type": "code",
   "execution_count": 5,
   "id": "af3da522-828d-4e3e-b76d-36421f228c67",
   "metadata": {},
   "outputs": [
    {
     "name": "stdout",
     "output_type": "stream",
     "text": [
      "Collecting en-core-web-sm==3.7.1\n",
      "  Using cached https://github.com/explosion/spacy-models/releases/download/en_core_web_sm-3.7.1/en_core_web_sm-3.7.1-py3-none-any.whl (12.8 MB)\n",
      "Requirement already satisfied: spacy<3.8.0,>=3.7.2 in /opt/conda/envs/resume/lib/python3.10/site-packages (from en-core-web-sm==3.7.1) (3.7.5)\n",
      "Requirement already satisfied: spacy-legacy<3.1.0,>=3.0.11 in /opt/conda/envs/resume/lib/python3.10/site-packages (from spacy<3.8.0,>=3.7.2->en-core-web-sm==3.7.1) (3.0.12)\n",
      "Requirement already satisfied: spacy-loggers<2.0.0,>=1.0.0 in /opt/conda/envs/resume/lib/python3.10/site-packages (from spacy<3.8.0,>=3.7.2->en-core-web-sm==3.7.1) (1.0.5)\n",
      "Requirement already satisfied: murmurhash<1.1.0,>=0.28.0 in /opt/conda/envs/resume/lib/python3.10/site-packages (from spacy<3.8.0,>=3.7.2->en-core-web-sm==3.7.1) (1.0.10)\n",
      "Requirement already satisfied: cymem<2.1.0,>=2.0.2 in /opt/conda/envs/resume/lib/python3.10/site-packages (from spacy<3.8.0,>=3.7.2->en-core-web-sm==3.7.1) (2.0.8)\n",
      "Requirement already satisfied: preshed<3.1.0,>=3.0.2 in /opt/conda/envs/resume/lib/python3.10/site-packages (from spacy<3.8.0,>=3.7.2->en-core-web-sm==3.7.1) (3.0.9)\n",
      "Requirement already satisfied: thinc<8.3.0,>=8.2.2 in /opt/conda/envs/resume/lib/python3.10/site-packages (from spacy<3.8.0,>=3.7.2->en-core-web-sm==3.7.1) (8.2.5)\n",
      "Requirement already satisfied: wasabi<1.2.0,>=0.9.1 in /opt/conda/envs/resume/lib/python3.10/site-packages (from spacy<3.8.0,>=3.7.2->en-core-web-sm==3.7.1) (1.1.3)\n",
      "Requirement already satisfied: srsly<3.0.0,>=2.4.3 in /opt/conda/envs/resume/lib/python3.10/site-packages (from spacy<3.8.0,>=3.7.2->en-core-web-sm==3.7.1) (2.4.8)\n",
      "Requirement already satisfied: catalogue<2.1.0,>=2.0.6 in /opt/conda/envs/resume/lib/python3.10/site-packages (from spacy<3.8.0,>=3.7.2->en-core-web-sm==3.7.1) (2.0.10)\n",
      "Requirement already satisfied: weasel<0.5.0,>=0.1.0 in /opt/conda/envs/resume/lib/python3.10/site-packages (from spacy<3.8.0,>=3.7.2->en-core-web-sm==3.7.1) (0.4.1)\n",
      "Requirement already satisfied: typer<1.0.0,>=0.3.0 in /opt/conda/envs/resume/lib/python3.10/site-packages (from spacy<3.8.0,>=3.7.2->en-core-web-sm==3.7.1) (0.12.3)\n",
      "Requirement already satisfied: tqdm<5.0.0,>=4.38.0 in /opt/conda/envs/resume/lib/python3.10/site-packages (from spacy<3.8.0,>=3.7.2->en-core-web-sm==3.7.1) (4.66.4)\n",
      "Requirement already satisfied: requests<3.0.0,>=2.13.0 in /home/codespace/.local/lib/python3.10/site-packages (from spacy<3.8.0,>=3.7.2->en-core-web-sm==3.7.1) (2.32.3)\n",
      "Requirement already satisfied: pydantic!=1.8,!=1.8.1,<3.0.0,>=1.7.4 in /opt/conda/envs/resume/lib/python3.10/site-packages (from spacy<3.8.0,>=3.7.2->en-core-web-sm==3.7.1) (2.8.2)\n",
      "Requirement already satisfied: jinja2 in /home/codespace/.local/lib/python3.10/site-packages (from spacy<3.8.0,>=3.7.2->en-core-web-sm==3.7.1) (3.1.4)\n",
      "Requirement already satisfied: setuptools in /opt/conda/envs/resume/lib/python3.10/site-packages (from spacy<3.8.0,>=3.7.2->en-core-web-sm==3.7.1) (69.5.1)\n",
      "Requirement already satisfied: packaging>=20.0 in /home/codespace/.local/lib/python3.10/site-packages (from spacy<3.8.0,>=3.7.2->en-core-web-sm==3.7.1) (24.1)\n",
      "Requirement already satisfied: langcodes<4.0.0,>=3.2.0 in /opt/conda/envs/resume/lib/python3.10/site-packages (from spacy<3.8.0,>=3.7.2->en-core-web-sm==3.7.1) (3.4.0)\n",
      "Requirement already satisfied: numpy>=1.19.0 in /opt/conda/envs/resume/lib/python3.10/site-packages (from spacy<3.8.0,>=3.7.2->en-core-web-sm==3.7.1) (1.26.4)\n",
      "Requirement already satisfied: language-data>=1.2 in /opt/conda/envs/resume/lib/python3.10/site-packages (from langcodes<4.0.0,>=3.2.0->spacy<3.8.0,>=3.7.2->en-core-web-sm==3.7.1) (1.2.0)\n",
      "Requirement already satisfied: annotated-types>=0.4.0 in /opt/conda/envs/resume/lib/python3.10/site-packages (from pydantic!=1.8,!=1.8.1,<3.0.0,>=1.7.4->spacy<3.8.0,>=3.7.2->en-core-web-sm==3.7.1) (0.7.0)\n",
      "Requirement already satisfied: pydantic-core==2.20.1 in /opt/conda/envs/resume/lib/python3.10/site-packages (from pydantic!=1.8,!=1.8.1,<3.0.0,>=1.7.4->spacy<3.8.0,>=3.7.2->en-core-web-sm==3.7.1) (2.20.1)\n",
      "Requirement already satisfied: typing-extensions>=4.6.1 in /home/codespace/.local/lib/python3.10/site-packages (from pydantic!=1.8,!=1.8.1,<3.0.0,>=1.7.4->spacy<3.8.0,>=3.7.2->en-core-web-sm==3.7.1) (4.12.2)\n",
      "Requirement already satisfied: charset-normalizer<4,>=2 in /home/codespace/.local/lib/python3.10/site-packages (from requests<3.0.0,>=2.13.0->spacy<3.8.0,>=3.7.2->en-core-web-sm==3.7.1) (3.3.2)\n",
      "Requirement already satisfied: idna<4,>=2.5 in /home/codespace/.local/lib/python3.10/site-packages (from requests<3.0.0,>=2.13.0->spacy<3.8.0,>=3.7.2->en-core-web-sm==3.7.1) (3.7)\n",
      "Requirement already satisfied: urllib3<3,>=1.21.1 in /opt/conda/envs/resume/lib/python3.10/site-packages (from requests<3.0.0,>=2.13.0->spacy<3.8.0,>=3.7.2->en-core-web-sm==3.7.1) (2.2.2)\n",
      "Requirement already satisfied: certifi>=2017.4.17 in /home/codespace/.local/lib/python3.10/site-packages (from requests<3.0.0,>=2.13.0->spacy<3.8.0,>=3.7.2->en-core-web-sm==3.7.1) (2024.7.4)\n",
      "Requirement already satisfied: blis<0.8.0,>=0.7.8 in /opt/conda/envs/resume/lib/python3.10/site-packages (from thinc<8.3.0,>=8.2.2->spacy<3.8.0,>=3.7.2->en-core-web-sm==3.7.1) (0.7.11)\n",
      "Requirement already satisfied: confection<1.0.0,>=0.0.1 in /opt/conda/envs/resume/lib/python3.10/site-packages (from thinc<8.3.0,>=8.2.2->spacy<3.8.0,>=3.7.2->en-core-web-sm==3.7.1) (0.1.5)\n",
      "Requirement already satisfied: click>=8.0.0 in /opt/conda/envs/resume/lib/python3.10/site-packages (from typer<1.0.0,>=0.3.0->spacy<3.8.0,>=3.7.2->en-core-web-sm==3.7.1) (8.1.7)\n",
      "Requirement already satisfied: shellingham>=1.3.0 in /opt/conda/envs/resume/lib/python3.10/site-packages (from typer<1.0.0,>=0.3.0->spacy<3.8.0,>=3.7.2->en-core-web-sm==3.7.1) (1.5.4)\n",
      "Requirement already satisfied: rich>=10.11.0 in /opt/conda/envs/resume/lib/python3.10/site-packages (from typer<1.0.0,>=0.3.0->spacy<3.8.0,>=3.7.2->en-core-web-sm==3.7.1) (13.7.1)\n",
      "Requirement already satisfied: cloudpathlib<1.0.0,>=0.7.0 in /opt/conda/envs/resume/lib/python3.10/site-packages (from weasel<0.5.0,>=0.1.0->spacy<3.8.0,>=3.7.2->en-core-web-sm==3.7.1) (0.18.1)\n",
      "Requirement already satisfied: smart-open<8.0.0,>=5.2.1 in /opt/conda/envs/resume/lib/python3.10/site-packages (from weasel<0.5.0,>=0.1.0->spacy<3.8.0,>=3.7.2->en-core-web-sm==3.7.1) (7.0.4)\n",
      "Requirement already satisfied: MarkupSafe>=2.0 in /home/codespace/.local/lib/python3.10/site-packages (from jinja2->spacy<3.8.0,>=3.7.2->en-core-web-sm==3.7.1) (2.1.5)\n",
      "Requirement already satisfied: marisa-trie>=0.7.7 in /opt/conda/envs/resume/lib/python3.10/site-packages (from language-data>=1.2->langcodes<4.0.0,>=3.2.0->spacy<3.8.0,>=3.7.2->en-core-web-sm==3.7.1) (1.2.0)\n",
      "Requirement already satisfied: markdown-it-py>=2.2.0 in /opt/conda/envs/resume/lib/python3.10/site-packages (from rich>=10.11.0->typer<1.0.0,>=0.3.0->spacy<3.8.0,>=3.7.2->en-core-web-sm==3.7.1) (3.0.0)\n",
      "Requirement already satisfied: pygments<3.0.0,>=2.13.0 in /home/codespace/.local/lib/python3.10/site-packages (from rich>=10.11.0->typer<1.0.0,>=0.3.0->spacy<3.8.0,>=3.7.2->en-core-web-sm==3.7.1) (2.18.0)\n",
      "Requirement already satisfied: wrapt in /opt/conda/envs/resume/lib/python3.10/site-packages (from smart-open<8.0.0,>=5.2.1->weasel<0.5.0,>=0.1.0->spacy<3.8.0,>=3.7.2->en-core-web-sm==3.7.1) (1.16.0)\n",
      "Requirement already satisfied: mdurl~=0.1 in /opt/conda/envs/resume/lib/python3.10/site-packages (from markdown-it-py>=2.2.0->rich>=10.11.0->typer<1.0.0,>=0.3.0->spacy<3.8.0,>=3.7.2->en-core-web-sm==3.7.1) (0.1.2)\n",
      "\u001b[38;5;2m✔ Download and installation successful\u001b[0m\n",
      "You can now load the package via spacy.load('en_core_web_sm')\n"
     ]
    }
   ],
   "source": [
    "!python -m spacy download en_core_web_sm"
   ]
  },
  {
   "cell_type": "code",
   "execution_count": 6,
   "id": "80260eb5-7d77-4a45-892a-a0e0cab92a6b",
   "metadata": {},
   "outputs": [],
   "source": [
    "# Load spaCy model\n",
    "nlp = spacy.load('en_core_web_sm')"
   ]
  },
  {
   "cell_type": "markdown",
   "id": "1cb77056-5f07-4793-b48f-c57740465958",
   "metadata": {},
   "source": [
    "## Entity Ruler\n",
    "\n",
    "* Entity ruler pipeline is addded to the spaCy model\n",
    "* Create an entity ruler using a JSON file containing labels and patterns for skills"
   ]
  },
  {
   "cell_type": "code",
   "execution_count": 7,
   "id": "6045c424-df60-4f67-9def-5e504f8c1ce8",
   "metadata": {},
   "outputs": [],
   "source": [
    "# Add entity ruler pipeline to spaCy model\n",
    "entity_ruler = nlp.add_pipe(\"entity_ruler\", before=\"ner\")\n",
    "\n",
    "# Define patterns as dictionaries\n",
    "patterns = [\n",
    "    {\"label\": \"SKILL\", \"pattern\": [{\"LOWER\": \"matplotlib\"}]},\n",
    "    {\"label\": \"SKILL\", \"pattern\": [{\"LOWER\": \"python\"}]},\n",
    "    {\"label\": \"SKILL\", \"pattern\": [{\"LOWER\": \"pandas\"}]},\n",
    "    {\"label\": \"SKILL\", \"pattern\": [{\"LOWER\": \"seaborn\"}]},\n",
    "    {\"label\": \"SKILL\", \"pattern\": [{\"LOWER\": \"sql\"}]},\n",
    "    {\"label\": \"SKILL\", \"pattern\": [{\"LOWER\": \"mysql\"}]},\n",
    "    {\"label\": \"PERSON\", \"pattern\": [{\"LOWER\": \"kanika kaushik\"}]},\n",
    "    {\"label\": \"PERSON\", \"pattern\": [{\"LOWER\": \"mythily ramanathan\"}]},\n",
    "    {\"label\": \"PERSON\", \"pattern\": [{\"LOWER\": \"nikhil thota\"}]}\n",
    "]\n",
    "\n",
    "# Add patterns to entity ruler\n",
    "entity_ruler.add_patterns(patterns)"
   ]
  },
  {
   "cell_type": "code",
   "execution_count": 8,
   "id": "ea9a3c6b-a098-4042-91fa-fe5d240f3ab4",
   "metadata": {},
   "outputs": [
    {
     "data": {
      "text/html": [
       "<div>\n",
       "<style scoped>\n",
       "    .dataframe tbody tr th:only-of-type {\n",
       "        vertical-align: middle;\n",
       "    }\n",
       "\n",
       "    .dataframe tbody tr th {\n",
       "        vertical-align: top;\n",
       "    }\n",
       "\n",
       "    .dataframe thead th {\n",
       "        text-align: right;\n",
       "    }\n",
       "</style>\n",
       "<table border=\"1\" class=\"dataframe\">\n",
       "  <thead>\n",
       "    <tr style=\"text-align: right;\">\n",
       "      <th></th>\n",
       "      <th>ID</th>\n",
       "      <th>resume_text</th>\n",
       "    </tr>\n",
       "  </thead>\n",
       "  <tbody>\n",
       "    <tr>\n",
       "      <th>0</th>\n",
       "      <td>1</td>\n",
       "      <td>\\n \\n \\n \\n \\n \\n \\n \\n \\n \\nCONTACT  \\nKanik...</td>\n",
       "    </tr>\n",
       "    <tr>\n",
       "      <th>1</th>\n",
       "      <td>2</td>\n",
       "      <td>\\n \\n \\n \\nSUMMARY  Mythily  Ramanathan  \\nDa...</td>\n",
       "    </tr>\n",
       "    <tr>\n",
       "      <th>2</th>\n",
       "      <td>3</td>\n",
       "      <td>Nikhil\\nThota \\nSan\\nJose,\\nCA\\n95126\\n•\\nnikh...</td>\n",
       "    </tr>\n",
       "  </tbody>\n",
       "</table>\n",
       "</div>"
      ],
      "text/plain": [
       "   ID                                        resume_text\n",
       "0   1   \\n \\n \\n \\n \\n \\n \\n \\n \\n \\nCONTACT  \\nKanik...\n",
       "1   2   \\n \\n \\n \\nSUMMARY  Mythily  Ramanathan  \\nDa...\n",
       "2   3  Nikhil\\nThota \\nSan\\nJose,\\nCA\\n95126\\n•\\nnikh..."
      ]
     },
     "execution_count": 8,
     "metadata": {},
     "output_type": "execute_result"
    }
   ],
   "source": [
    "data"
   ]
  },
  {
   "cell_type": "markdown",
   "id": "cd8064f8-9266-44ec-a198-d52afe48b5ff",
   "metadata": {},
   "source": [
    "## Text Cleaning"
   ]
  },
  {
   "cell_type": "code",
   "execution_count": 9,
   "id": "be5a4212-ec70-4209-b2ac-3f34ef7fc30e",
   "metadata": {},
   "outputs": [
    {
     "name": "stderr",
     "output_type": "stream",
     "text": [
      "[nltk_data] Downloading package punkt to /home/codespace/nltk_data...\n",
      "[nltk_data]   Package punkt is already up-to-date!\n",
      "[nltk_data] Downloading package stopwords to\n",
      "[nltk_data]     /home/codespace/nltk_data...\n",
      "[nltk_data]   Package stopwords is already up-to-date!\n",
      "[nltk_data] Downloading package wordnet to\n",
      "[nltk_data]     /home/codespace/nltk_data...\n",
      "[nltk_data]   Package wordnet is already up-to-date!\n"
     ]
    }
   ],
   "source": [
    "# Download NLTK resources\n",
    "nltk.download('punkt')  # Download the 'punkt' tokenizer resource\n",
    "nltk.download('stopwords')\n",
    "nltk.download('wordnet')\n",
    "\n",
    "# Initialize WordNet Lemmatizer\n",
    "lemmatizer = WordNetLemmatizer()\n",
    "\n",
    "def clean_text(text):\n",
    "    # Remove hyperlinks, special characters, and punctuations using regex\n",
    "    text = re.sub(r'https?://\\S+|www\\.\\S+', '', text)\n",
    "    text = re.sub(r'<.*?>', '', text)\n",
    "    text = re.sub(r'[^\\w\\s\\n]', '', text)\n",
    "\n",
    "    # Convert the text to lowercase\n",
    "    text = text.lower()\n",
    "\n",
    "    # Tokenize the text using nltk's word_tokenize\n",
    "    words = word_tokenize(text)\n",
    "\n",
    "    # Lemmatize the text to its base form for normalization\n",
    "    lemmatized_words = [lemmatizer.lemmatize(word) for word in words]\n",
    "\n",
    "    # Remove English stop words\n",
    "    stop_words = set(stopwords.words('english'))\n",
    "    filtered_words = ' '.join([word for word in lemmatized_words if word not in stop_words])\n",
    "\n",
    "    return filtered_words\n",
    "\n",
    "# Clean the 'resume_text' column in the DataFrame\n",
    "data['cleaned_resume'] = data['resume_text'].apply(clean_text)"
   ]
  },
  {
   "cell_type": "markdown",
   "id": "6198083c-9dc0-4502-8906-bf656dd1abf5",
   "metadata": {},
   "source": [
    "## Visualizing Named Entities in Text with spaCy"
   ]
  },
  {
   "cell_type": "code",
   "execution_count": 10,
   "id": "7fc207d4-b6c4-466b-9a94-5ea9b3512392",
   "metadata": {},
   "outputs": [
    {
     "data": {
      "text/html": [
       "<span class=\"tex2jax_ignore\"><div class=\"entities\" style=\"line-height: 2.5; direction: ltr\">contact kanika06kkgmailcom 919736839504 career objective pursuing google data analytics certiﬁcation hand experience working microsoft oﬃce msexcel word powerpoint 25 year experience training language ie \n",
       "<mark class=\"entity\" style=\"background: orange; padding: 0.45em 0.6em; margin: 0 0.25em; line-height: 1; border-radius: 0.35em;\">\n",
       "    html javascript\n",
       "    <span style=\"font-size: 0.8em; font-weight: bold; line-height: 1; border-radius: 0.35em; vertical-align: middle; margin-left: 0.5rem\">PERSON</span>\n",
       "</mark>\n",
       " c c \n",
       "<mark class=\"entity\" style=\"background: lightblue; padding: 0.45em 0.6em; margin: 0 0.25em; line-height: 1; border-radius: 0.35em;\">\n",
       "    sql\n",
       "    <span style=\"font-size: 0.8em; font-weight: bold; line-height: 1; border-radius: 0.35em; vertical-align: middle; margin-left: 0.5rem\">SKILL</span>\n",
       "</mark>\n",
       " coordinating team increase work eﬃciency lead group trainer maintain work ethic increase business standard conducting education mca bahra university 2015 989 training workshop meet experience guiding client regarding curriculum company motive solving problem customer regarding issue teaching experience interacting team client understanding requirement good communication skill adaptable new technology work environment problem solving skill bca work experience st bede college 2012 72 service counsellor think learn pvt ltd mar 2022 current bangalore karnataka evaluate large amount data handling detail 200 customer maintaining data requirement trouble shooting tech issue student counselling student parent course competition exam landscape data representation interaction student parent routine basis giving byjus customer interaction providing detail stake holder monitor class schedule ensure smooth running class monitor schedule escalate issue regarding attendance adherence \n",
       "<mark class=\"entity\" style=\"background: orange; padding: 0.45em 0.6em; margin: 0 0.25em; line-height: 1; border-radius: 0.35em;\">\n",
       "    liaison head\n",
       "    <span style=\"font-size: 0.8em; font-weight: bold; line-height: 1; border-radius: 0.35em; vertical-align: middle; margin-left: 0.5rem\">PERSON</span>\n",
       "</mark>\n",
       " oﬃce upcoming program admission test scheme liaison academic lead smooth student teacher relationship handling assigned administrative responsibility listen student concern academic technical social problem organize peer counselling program working increasing company sla increase sra kra track report student performance regular interval skilled work msword msexcel presentation platform zen desk sale force lead squared tableau excel google sheet google form business operation service counsellor kanika kaushik coding instructor \n",
       "<mark class=\"entity\" style=\"background: orange; padding: 0.45em 0.6em; margin: 0 0.25em; line-height: 1; border-radius: 0.35em;\">\n",
       "    campk12\n",
       "    <span style=\"font-size: 0.8em; font-weight: bold; line-height: 1; border-radius: 0.35em; vertical-align: middle; margin-left: 0.5rem\">PERSON</span>\n",
       "</mark>\n",
       " sep 2020 feb 2022 delhi \n",
       "<mark class=\"entity\" style=\"background: lightgreen; padding: 0.45em 0.6em; margin: 0 0.25em; line-height: 1; border-radius: 0.35em;\">\n",
       "    delhi\n",
       "    <span style=\"font-size: 0.8em; font-weight: bold; line-height: 1; border-radius: 0.35em; vertical-align: middle; margin-left: 0.5rem\">GPE</span>\n",
       "</mark>\n",
       " \n",
       "<mark class=\"entity\" style=\"background: lightgreen; padding: 0.45em 0.6em; margin: 0 0.25em; line-height: 1; border-radius: 0.35em;\">\n",
       "    india\n",
       "    <span style=\"font-size: 0.8em; font-weight: bold; line-height: 1; border-radius: 0.35em; vertical-align: middle; margin-left: 0.5rem\">GPE</span>\n",
       "</mark>\n",
       " currently working \n",
       "<mark class=\"entity\" style=\"background: orange; padding: 0.45em 0.6em; margin: 0 0.25em; line-height: 1; border-radius: 0.35em;\">\n",
       "    campk12\n",
       "    <span style=\"font-size: 0.8em; font-weight: bold; line-height: 1; border-radius: 0.35em; vertical-align: middle; margin-left: 0.5rem\">PERSON</span>\n",
       "</mark>\n",
       " coding instructor \n",
       "<mark class=\"entity\" style=\"background: orange; padding: 0.45em 0.6em; margin: 0 0.25em; line-height: 1; border-radius: 0.35em;\">\n",
       "    javascript machine\n",
       "    <span style=\"font-size: 0.8em; font-weight: bold; line-height: 1; border-radius: 0.35em; vertical-align: middle; margin-left: 0.5rem\">PERSON</span>\n",
       "</mark>\n",
       " learning ai j joined 21 sept 2020 course app development teaching app development ai javascript course language \n",
       "<mark class=\"entity\" style=\"background: orange; padding: 0.45em 0.6em; margin: 0 0.25em; line-height: 1; border-radius: 0.35em;\">\n",
       "    java\n",
       "    <span style=\"font-size: 0.8em; font-weight: bold; line-height: 1; border-radius: 0.35em; vertical-align: middle; margin-left: 0.5rem\">PERSON</span>\n",
       "</mark>\n",
       " script creating ui app chat bot platform p5js ml5js teachable machine skill dealing datasets web api json firebase machine learning model ai attending parent teacher meeting testing student ass grasp class material presented course workshop built maintained positive relationship student parent colleague administrator facilitate positive effective educational experience utilized hand curriculum teaching method educate student managed curriculum development daily facility operation alignment corporate 1313 hour online teaching experience computer teacher army school jul 2019 mar 2020 amritsar india illustrated practical us computer science curriculum enhance student passion understanding timetable management taught using range programming development tool including html5 c delivered computer science curriculum innovative way engage enthuse high participated staff meeting training session ensure continuous professional report generation hand experience msexcel guest lecturer st bede college jun 2017 oct 2021 shimla himachal pradesh performed postrelated administrative duty including report generation grade provided advice support student individually group allowing optimal compiled administered graded examination ass student learning identify software language html cs j msexcel internship organization department shimla tenure six month project planning permission town country role trainee designer strength positive attitude keen learner problem solver adapt changing environment believe team building good verbal communication adaptive new technology interest travelling interacting people exploring different culture dancing accomplishment recognized university academic excellence awarded gold medal felicitated coordinator arranging fests meeting platinum badge holder \n",
       "<mark class=\"entity\" style=\"background: orange; padding: 0.45em 0.6em; margin: 0 0.25em; line-height: 1; border-radius: 0.35em;\">\n",
       "    campk12\n",
       "    <span style=\"font-size: 0.8em; font-weight: bold; line-height: 1; border-radius: 0.35em; vertical-align: middle; margin-left: 0.5rem\">PERSON</span>\n",
       "</mark>\n",
       " excellent teaching 49 rating</div></span>"
      ],
      "text/plain": [
       "<IPython.core.display.HTML object>"
      ]
     },
     "metadata": {},
     "output_type": "display_data"
    },
    {
     "name": "stdout",
     "output_type": "stream",
     "text": [
      "\n",
      "\n",
      "\n"
     ]
    },
    {
     "data": {
      "text/html": [
       "<span class=\"tex2jax_ignore\"><div class=\"entities\" style=\"line-height: 2.5; direction: ltr\">summary mythily ramanathan data analyst 908 546 9245 new jersey 08844 mythilyramanathan438gmailcom \n",
       "<mark class=\"entity\" style=\"background: orange; padding: 0.45em 0.6em; margin: 0 0.25em; line-height: 1; border-radius: 0.35em;\">\n",
       "    linkdin github\n",
       "    <span style=\"font-size: 0.8em; font-weight: bold; line-height: 1; border-radius: 0.35em; vertical-align: middle; margin-left: 0.5rem\">PERSON</span>\n",
       "</mark>\n",
       " portfolio 4 year experience data analyst data driven decision making expert application \n",
       "<mark class=\"entity\" style=\"background: lightblue; padding: 0.45em 0.6em; margin: 0 0.25em; line-height: 1; border-radius: 0.35em;\">\n",
       "    sql\n",
       "    <span style=\"font-size: 0.8em; font-weight: bold; line-height: 1; border-radius: 0.35em; vertical-align: middle; margin-left: 0.5rem\">SKILL</span>\n",
       "</mark>\n",
       " power bi data extraction cleaning analysis uncover hidden insight pattern leveraging diverse package like numpy panda \n",
       "<mark class=\"entity\" style=\"background: lightblue; padding: 0.45em 0.6em; margin: 0 0.25em; line-height: 1; border-radius: 0.35em;\">\n",
       "    matplotlib\n",
       "    <span style=\"font-size: 0.8em; font-weight: bold; line-height: 1; border-radius: 0.35em; vertical-align: middle; margin-left: 0.5rem\">SKILL</span>\n",
       "</mark>\n",
       " \n",
       "<mark class=\"entity\" style=\"background: lightblue; padding: 0.45em 0.6em; margin: 0 0.25em; line-height: 1; border-radius: 0.35em;\">\n",
       "    seaborn\n",
       "    <span style=\"font-size: 0.8em; font-weight: bold; line-height: 1; border-radius: 0.35em; vertical-align: middle; margin-left: 0.5rem\">SKILL</span>\n",
       "</mark>\n",
       " data manipulation compelling visualization bridge gap data actionable insight proficiency querying managing wide range database including \n",
       "<mark class=\"entity\" style=\"background: lightblue; padding: 0.45em 0.6em; margin: 0 0.25em; line-height: 1; border-radius: 0.35em;\">\n",
       "    mysql\n",
       "    <span style=\"font-size: 0.8em; font-weight: bold; line-height: 1; border-radius: 0.35em; vertical-align: middle; margin-left: 0.5rem\">SKILL</span>\n",
       "</mark>\n",
       " postgresql \n",
       "<mark class=\"entity\" style=\"background: lightblue; padding: 0.45em 0.6em; margin: 0 0.25em; line-height: 1; border-radius: 0.35em;\">\n",
       "    sql\n",
       "    <span style=\"font-size: 0.8em; font-weight: bold; line-height: 1; border-radius: 0.35em; vertical-align: middle; margin-left: 0.5rem\">SKILL</span>\n",
       "</mark>\n",
       " server posse comprehensive skillset encompassing data modeling data visualization statistical data analysis translate data strategic business value skill programming language \n",
       "<mark class=\"entity\" style=\"background: lightblue; padding: 0.45em 0.6em; margin: 0 0.25em; line-height: 1; border-radius: 0.35em;\">\n",
       "    sql\n",
       "    <span style=\"font-size: 0.8em; font-weight: bold; line-height: 1; border-radius: 0.35em; vertical-align: middle; margin-left: 0.5rem\">SKILL</span>\n",
       "</mark>\n",
       " \n",
       "<mark class=\"entity\" style=\"background: lightblue; padding: 0.45em 0.6em; margin: 0 0.25em; line-height: 1; border-radius: 0.35em;\">\n",
       "    python\n",
       "    <span style=\"font-size: 0.8em; font-weight: bold; line-height: 1; border-radius: 0.35em; vertical-align: middle; margin-left: 0.5rem\">SKILL</span>\n",
       "</mark>\n",
       " package numpy panda \n",
       "<mark class=\"entity\" style=\"background: lightblue; padding: 0.45em 0.6em; margin: 0 0.25em; line-height: 1; border-radius: 0.35em;\">\n",
       "    matplotlib\n",
       "    <span style=\"font-size: 0.8em; font-weight: bold; line-height: 1; border-radius: 0.35em; vertical-align: middle; margin-left: 0.5rem\">SKILL</span>\n",
       "</mark>\n",
       " \n",
       "<mark class=\"entity\" style=\"background: lightblue; padding: 0.45em 0.6em; margin: 0 0.25em; line-height: 1; border-radius: 0.35em;\">\n",
       "    seaborn\n",
       "    <span style=\"font-size: 0.8em; font-weight: bold; line-height: 1; border-radius: 0.35em; vertical-align: middle; margin-left: 0.5rem\">SKILL</span>\n",
       "</mark>\n",
       " database \n",
       "<mark class=\"entity\" style=\"background: lightblue; padding: 0.45em 0.6em; margin: 0 0.25em; line-height: 1; border-radius: 0.35em;\">\n",
       "    mysql\n",
       "    <span style=\"font-size: 0.8em; font-weight: bold; line-height: 1; border-radius: 0.35em; vertical-align: middle; margin-left: 0.5rem\">SKILL</span>\n",
       "</mark>\n",
       " postgresql \n",
       "<mark class=\"entity\" style=\"background: lightblue; padding: 0.45em 0.6em; margin: 0 0.25em; line-height: 1; border-radius: 0.35em;\">\n",
       "    sql\n",
       "    <span style=\"font-size: 0.8em; font-weight: bold; line-height: 1; border-radius: 0.35em; vertical-align: middle; margin-left: 0.5rem\">SKILL</span>\n",
       "</mark>\n",
       " server tool microsoft power bi excel advanced formula pivot table power query power pivot tableau tool skill \n",
       "<mark class=\"entity\" style=\"background: orange; padding: 0.45em 0.6em; margin: 0 0.25em; line-height: 1; border-radius: 0.35em;\">\n",
       "    git jira uat office\n",
       "    <span style=\"font-size: 0.8em; font-weight: bold; line-height: 1; border-radius: 0.35em; vertical-align: middle; margin-left: 0.5rem\">PERSON</span>\n",
       "</mark>\n",
       " etl openai jupyter notebook pycharm v code hard skill data modeling data visualization statistical data analysis google analytics data analysis professional experience planck technology usa data analyst 012022 present leveraged \n",
       "<mark class=\"entity\" style=\"background: lightblue; padding: 0.45em 0.6em; margin: 0 0.25em; line-height: 1; border-radius: 0.35em;\">\n",
       "    python\n",
       "    <span style=\"font-size: 0.8em; font-weight: bold; line-height: 1; border-radius: 0.35em; vertical-align: middle; margin-left: 0.5rem\">SKILL</span>\n",
       "</mark>\n",
       " versatility rich library ecosystem panda numpy streamline data wrangling analysis resulting efficient insight generation developed interactive dashboard report power bi translating complex data clear actionable insight stakeholder leading 20 increase data driven decision making across organization provided adhoc analysis reporting support various department including sale marketing finance address specific business inquiry challenge incorporated openais gpt model text generation summarization task improving content generation efficiency 20 analyzed sale marketing data identify opportunity revenue growth cost optimization leading 15 increase sale 10 reduction marketing spend maintained \n",
       "<mark class=\"entity\" style=\"background: lightblue; padding: 0.45em 0.6em; margin: 0 0.25em; line-height: 1; border-radius: 0.35em;\">\n",
       "    sql\n",
       "    <span style=\"font-size: 0.8em; font-weight: bold; line-height: 1; border-radius: 0.35em; vertical-align: middle; margin-left: 0.5rem\">SKILL</span>\n",
       "</mark>\n",
       " stored procedure function automation task business logic implementation ptc solution usa data analyst 052020 122021 designed implemented data collection framework using google analytics \n",
       "<mark class=\"entity\" style=\"background: lightblue; padding: 0.45em 0.6em; margin: 0 0.25em; line-height: 1; border-radius: 0.35em;\">\n",
       "    sql\n",
       "    <span style=\"font-size: 0.8em; font-weight: bold; line-height: 1; border-radius: 0.35em; vertical-align: middle; margin-left: 0.5rem\">SKILL</span>\n",
       "</mark>\n",
       " capturing user behavior data inform website optimization effort conducted exploratory data analysis visualization using tableau uncovering key trend pattern customer behavior conducted data cleaning transformation validation process excel power bi ensure data accuracy reliability reporting analysis purpose resulting improved data quality integrity collaborated cross functional team gather pre process data analysis including data cleaning data wrangling developed maintained complex data model microsoft \n",
       "<mark class=\"entity\" style=\"background: lightblue; padding: 0.45em 0.6em; margin: 0 0.25em; line-height: 1; border-radius: 0.35em;\">\n",
       "    sql\n",
       "    <span style=\"font-size: 0.8em; font-weight: bold; line-height: 1; border-radius: 0.35em; vertical-align: middle; margin-left: 0.5rem\">SKILL</span>\n",
       "</mark>\n",
       " server support financial reporting budgeting process ensuring data accuracy consistency informed financial decision conducted regular data analysis workshop stakeholder effectively translating technical concept actionable insight fostering data driven culture within team project unlocking market potential consumer good domain \n",
       "<mark class=\"entity\" style=\"background: lightblue; padding: 0.45em 0.6em; margin: 0 0.25em; line-height: 1; border-radius: 0.35em;\">\n",
       "    sql\n",
       "    <span style=\"font-size: 0.8em; font-weight: bold; line-height: 1; border-radius: 0.35em; vertical-align: middle; margin-left: 0.5rem\">SKILL</span>\n",
       "</mark>\n",
       " power bi linkedin github presentation healthcare hcahps survey analysis power bi linkedin github dashboard sale analysis report design fmcg excel linkedin github certification data visualization challenge codebasics 2nd rank \n",
       "<mark class=\"entity\" style=\"background: lightblue; padding: 0.45em 0.6em; margin: 0 0.25em; line-height: 1; border-radius: 0.35em;\">\n",
       "    sql\n",
       "    <span style=\"font-size: 0.8em; font-weight: bold; line-height: 1; border-radius: 0.35em; vertical-align: middle; margin-left: 0.5rem\">SKILL</span>\n",
       "</mark>\n",
       " intermediate hackerrank education bachelor engineering electronics communication engineering may 2005 may 2009 anna university chennai \n",
       "<mark class=\"entity\" style=\"background: lightgreen; padding: 0.45em 0.6em; margin: 0 0.25em; line-height: 1; border-radius: 0.35em;\">\n",
       "    india\n",
       "    <span style=\"font-size: 0.8em; font-weight: bold; line-height: 1; border-radius: 0.35em; vertical-align: middle; margin-left: 0.5rem\">GPE</span>\n",
       "</mark>\n",
       "</div></span>"
      ],
      "text/plain": [
       "<IPython.core.display.HTML object>"
      ]
     },
     "metadata": {},
     "output_type": "display_data"
    },
    {
     "name": "stdout",
     "output_type": "stream",
     "text": [
      "\n",
      "\n",
      "\n"
     ]
    },
    {
     "data": {
      "text/html": [
       "<span class=\"tex2jax_ignore\"><div class=\"entities\" style=\"line-height: 2.5; direction: ltr\">\n",
       "<mark class=\"entity\" style=\"background: orange; padding: 0.45em 0.6em; margin: 0 0.25em; line-height: 1; border-radius: 0.35em;\">\n",
       "    nikhil thota\n",
       "    <span style=\"font-size: 0.8em; font-weight: bold; line-height: 1; border-radius: 0.35em; vertical-align: middle; margin-left: 0.5rem\">PERSON</span>\n",
       "</mark>\n",
       " \n",
       "<mark class=\"entity\" style=\"background: lightgreen; padding: 0.45em 0.6em; margin: 0 0.25em; line-height: 1; border-radius: 0.35em;\">\n",
       "    san jose\n",
       "    <span style=\"font-size: 0.8em; font-weight: bold; line-height: 1; border-radius: 0.35em; vertical-align: middle; margin-left: 0.5rem\">GPE</span>\n",
       "</mark>\n",
       " ca 95126 nikhilthotasjsuedu 1 6696771551 linkedin github medium b j e c v e data analyst 4 year experience master degree data analytics sjsu specializing report generation etlelt pipeline data migration growth mindset built 20 pipeline using \n",
       "<mark class=\"entity\" style=\"background: lightblue; padding: 0.45em 0.6em; margin: 0 0.25em; line-height: 1; border-radius: 0.35em;\">\n",
       "    sql\n",
       "    <span style=\"font-size: 0.8em; font-weight: bold; line-height: 1; border-radius: 0.35em; vertical-align: middle; margin-left: 0.5rem\">SKILL</span>\n",
       "</mark>\n",
       " \n",
       "<mark class=\"entity\" style=\"background: lightblue; padding: 0.45em 0.6em; margin: 0 0.25em; line-height: 1; border-radius: 0.35em;\">\n",
       "    python\n",
       "    <span style=\"font-size: 0.8em; font-weight: bold; line-height: 1; border-radius: 0.35em; vertical-align: middle; margin-left: 0.5rem\">SKILL</span>\n",
       "</mark>\n",
       " business intelligence bi tool real touch ml application looking summer internship e u c n e r f c e n c e n n l c n j e e u n v e r n j e c jan 2023 expected december 2024 b e c h n c p u e r c e n c e n e n g n e e r n g v r g n h n g r n aug 2015 sept 2019 e c h n c l k l l b e postgresql rdbms neo4j redshift bigquery \n",
       "<mark class=\"entity\" style=\"background: lightblue; padding: 0.45em 0.6em; margin: 0 0.25em; line-height: 1; border-radius: 0.35em;\">\n",
       "    mysql\n",
       "    <span style=\"font-size: 0.8em; font-weight: bold; line-height: 1; border-radius: 0.35em; vertical-align: middle; margin-left: 0.5rem\">SKILL</span>\n",
       "</mark>\n",
       " p r g r n g l n g u g e r \n",
       "<mark class=\"entity\" style=\"background: lightblue; padding: 0.45em 0.6em; margin: 0 0.25em; line-height: 1; border-radius: 0.35em;\">\n",
       "    python\n",
       "    <span style=\"font-size: 0.8em; font-weight: bold; line-height: 1; border-radius: 0.35em; vertical-align: middle; margin-left: 0.5rem\">SKILL</span>\n",
       "</mark>\n",
       " \n",
       "<mark class=\"entity\" style=\"background: lightblue; padding: 0.45em 0.6em; margin: 0 0.25em; line-height: 1; border-radius: 0.35em;\">\n",
       "    sql\n",
       "    <span style=\"font-size: 0.8em; font-weight: bold; line-height: 1; border-radius: 0.35em; vertical-align: middle; margin-left: 0.5rem\">SKILL</span>\n",
       "</mark>\n",
       " dax hive \n",
       "<mark class=\"entity\" style=\"background: lightblue; padding: 0.45em 0.6em; margin: 0 0.25em; line-height: 1; border-radius: 0.35em;\">\n",
       "    sql\n",
       "    <span style=\"font-size: 0.8em; font-weight: bold; line-height: 1; border-radius: 0.35em; vertical-align: middle; margin-left: 0.5rem\">SKILL</span>\n",
       "</mark>\n",
       " java object oriented programing programming pyspark \n",
       "<mark class=\"entity\" style=\"background: lightgreen; padding: 0.45em 0.6em; margin: 0 0.25em; line-height: 1; border-radius: 0.35em;\">\n",
       "    v u l z\n",
       "    <span style=\"font-size: 0.8em; font-weight: bold; line-height: 1; border-radius: 0.35em; vertical-align: middle; margin-left: 0.5rem\">GPE</span>\n",
       "</mark>\n",
       " n l data studio matlplotlib plotly power bi tableau microstrategy grow bi looker w r k f l w l airflow dag dbt cloud etlelt excel \n",
       "<mark class=\"entity\" style=\"background: orange; padding: 0.45em 0.6em; margin: 0 0.25em; line-height: 1; border-radius: 0.35em;\">\n",
       "    vba\n",
       "    <span style=\"font-size: 0.8em; font-weight: bold; line-height: 1; border-radius: 0.35em; vertical-align: middle; margin-left: 0.5rem\">PERSON</span>\n",
       "</mark>\n",
       " c l u aws s3 redshift dynamodb bigquery google cloud bucket snowflake zeppelin databricks h e c statistic probability regression optimization eigenvalue eigenvectors pvalue hypothesis testing c h n e l e r n n g kera tensorflow panda numpy \n",
       "<mark class=\"entity\" style=\"background: lightblue; padding: 0.45em 0.6em; margin: 0 0.25em; line-height: 1; border-radius: 0.35em;\">\n",
       "    seaborn\n",
       "    <span style=\"font-size: 0.8em; font-weight: bold; line-height: 1; border-radius: 0.35em; vertical-align: middle; margin-left: 0.5rem\">SKILL</span>\n",
       "</mark>\n",
       " scikitlearn request data analysis data science e x p e r e n c e n l p h r e e c 2 0 2 1 j n 2 0 2 3 orchestrated 4 upswing revenue optimizing product listing accuracy utilizing sqlner nlp cnns data driven rule product catalog implementing automation apache airflow sagemaker pioneered transformative shift crossfunctional team collaborating resulting remarkable 4 0 reduction adhocs building data pipeline model dashboard proficiency airflow presto redshift microstrategy delivered impressive 8 boost user conversion rate analyzing realtime data seamlessly using connector api bigquery google analytics dax crafted compelling power bi visualization developed 8 microstrategy dashboard emailers collaboration demand business team aid transformation firm supply chain model state based model zone based model thereby improving demand 1 5 b u n e n l r n l c e c 2 0 2 0 e c 2 0 2 1 executed agile sdlc optimizing marketing strategy resulting 1 0 sale uplift analyzing customer segment leveraging \n",
       "<mark class=\"entity\" style=\"background: lightblue; padding: 0.45em 0.6em; margin: 0 0.25em; line-height: 1; border-radius: 0.35em;\">\n",
       "    sql\n",
       "    <span style=\"font-size: 0.8em; font-weight: bold; line-height: 1; border-radius: 0.35em; vertical-align: middle; margin-left: 0.5rem\">SKILL</span>\n",
       "</mark>\n",
       " dbt looker precision targeting across google ad meta ad omnichannel platform optimized refined bigdata data model airflow utilizing tool like dbt cloud s3 \n",
       "<mark class=\"entity\" style=\"background: lightblue; padding: 0.45em 0.6em; margin: 0 0.25em; line-height: 1; border-radius: 0.35em;\">\n",
       "    python\n",
       "    <span style=\"font-size: 0.8em; font-weight: bold; line-height: 1; border-radius: 0.35em; vertical-align: middle; margin-left: 0.5rem\">SKILL</span>\n",
       "</mark>\n",
       " \n",
       "<mark class=\"entity\" style=\"background: lightblue; padding: 0.45em 0.6em; margin: 0 0.25em; line-height: 1; border-radius: 0.35em;\">\n",
       "    sql\n",
       "    <span style=\"font-size: 0.8em; font-weight: bold; line-height: 1; border-radius: 0.35em; vertical-align: middle; margin-left: 0.5rem\">SKILL</span>\n",
       "</mark>\n",
       " etlelt process enhancing efficiency scalability across hivepresto system reducing cost 2 3 built data lake bigquery snowflake redshift reducing data redundancy impressive 2 0 elevating data transparency accuracy 4 0 9 5 employing data cleaning transformation spearheaded development pl dashboard amazon seller resulting 2 0 cost reduction integrating factor budget forecasted sale demand cog providing key business insight using compelling tablea b u n e n l c p l l r e c h n l g e p v l j n 2 0 1 9 e c 2 0 2 0 delivered 4 x roi intern orchestrating datadriven campaign plan collaborating crossfunctionally team brand marketing campaign delivery finance legal execute successful campaign retail industry mitigated fraud transaction 1 7 offline retail environment implementation realtime datadriven rule using \n",
       "<mark class=\"entity\" style=\"background: lightblue; padding: 0.45em 0.6em; margin: 0 0.25em; line-height: 1; border-radius: 0.35em;\">\n",
       "    sql\n",
       "    <span style=\"font-size: 0.8em; font-weight: bold; line-height: 1; border-radius: 0.35em; vertical-align: middle; margin-left: 0.5rem\">SKILL</span>\n",
       "</mark>\n",
       " association rule mining kmeans clustering predictive modeling drove 2 0 increase crm growth deploying advanced model incorporating rfm demand forecasting market basket analysis customer retention crosssell product analysis real time campaign using ad retained 6 client computing new metric like csi np leveraging 2 0 \n",
       "<mark class=\"entity\" style=\"background: lightblue; padding: 0.45em 0.6em; margin: 0 0.25em; line-height: 1; border-radius: 0.35em;\">\n",
       "    sql\n",
       "    <span style=\"font-size: 0.8em; font-weight: bold; line-height: 1; border-radius: 0.35em; vertical-align: middle; margin-left: 0.5rem\">SKILL</span>\n",
       "</mark>\n",
       " logic incorporating input economics finance stakeholder client feedback understand fundamental b2b b2c system p r j e c b r v e l l n g employed suite tool including \n",
       "<mark class=\"entity\" style=\"background: lightblue; padding: 0.45em 0.6em; margin: 0 0.25em; line-height: 1; border-radius: 0.35em;\">\n",
       "    mysql\n",
       "    <span style=\"font-size: 0.8em; font-weight: bold; line-height: 1; border-radius: 0.35em; vertical-align: middle; margin-left: 0.5rem\">SKILL</span>\n",
       "</mark>\n",
       " workbench \n",
       "<mark class=\"entity\" style=\"background: lightblue; padding: 0.45em 0.6em; margin: 0 0.25em; line-height: 1; border-radius: 0.35em;\">\n",
       "    python\n",
       "    <span style=\"font-size: 0.8em; font-weight: bold; line-height: 1; border-radius: 0.35em; vertical-align: middle; margin-left: 0.5rem\">SKILL</span>\n",
       "</mark>\n",
       " dbt neo4j mongodb mongo atlas bigquery gcp aws glue kubernetes flask comprehensive data modeling project \n",
       "<mark class=\"entity\" style=\"background: lightgreen; padding: 0.45em 0.6em; margin: 0 0.25em; line-height: 1; border-radius: 0.35em;\">\n",
       "    sjsu\n",
       "    <span style=\"font-size: 0.8em; font-weight: bold; line-height: 1; border-radius: 0.35em; vertical-align: middle; margin-left: 0.5rem\">GPE</span>\n",
       "</mark>\n",
       " j n 2 0 2 3 2 0 2 3 u r b n u c l f c n lead team four research project focusing comparative analysis urban audio classifier aimed minimize use labeled audio data vision transformer vit v cnn variant sota result e p 2 0 2 3 e c 2 0 2 3 p l p h r c e f f e c developed gcn using node2vec feature drdr interaction predicting sideeffects e p 2 0 2 3 e c 2 0 2 3</div></span>"
      ],
      "text/plain": [
       "<IPython.core.display.HTML object>"
      ]
     },
     "metadata": {},
     "output_type": "display_data"
    },
    {
     "name": "stdout",
     "output_type": "stream",
     "text": [
      "\n",
      "\n",
      "\n"
     ]
    }
   ],
   "source": [
    "# Define options for visualization\n",
    "options = {'ents': ['PERSON', 'GPE', 'SKILL'],\n",
    "           'colors': {'PERSON': 'orange',\n",
    "                      'GPE': 'lightgreen',\n",
    "                      'SKILL': 'lightblue'}}\n",
    "\n",
    "# Visualize named entities in each resume\n",
    "for resume_text in data['cleaned_resume']:\n",
    "    doc = nlp(resume_text)\n",
    "    displacy.render(doc, style=\"ent\", jupyter=True, options=options)\n",
    "    print('\\n\\n')"
   ]
  },
  {
   "cell_type": "markdown",
   "id": "89ccfd51-25ec-4631-a571-d1a2b8e55b48",
   "metadata": {},
   "source": [
    "## Match Score"
   ]
  },
  {
   "cell_type": "code",
   "execution_count": 11,
   "id": "d8cc8068-bb27-484e-9da4-84969fa0353a",
   "metadata": {},
   "outputs": [
    {
     "name": "stdout",
     "output_type": "stream",
     "text": [
      "Resume ID: 2\n",
      "Similarity Score: 0.6011826053120937\n",
      "\n",
      "Resume ID: 3\n",
      "Similarity Score: 0.33784127053908547\n",
      "\n",
      "Resume ID: 1\n",
      "Similarity Score: 0.07674889561956494\n",
      "\n"
     ]
    }
   ],
   "source": [
    "# Define the company requirements\n",
    "company_requirements = \"\"\"Data Analyst with experience using Python for data cleaning, data analysis, exploratory data analysis (EDA).\n",
    "                          We are also looking for someone with the ability to explain complex mathematical concepts to non-mathematicians.\"\"\"\n",
    "\n",
    "# Combine the company requirements with stopwords removed\n",
    "cleaned_company_requirements = clean_text(company_requirements)\n",
    "\n",
    "# Calculate TF-IDF vectors for the company requirements and resume texts\n",
    "tfidf_vectorizer = TfidfVectorizer()\n",
    "tfidf_matrix = tfidf_vectorizer.fit_transform(data['cleaned_resume'])\n",
    "company_tfidf = tfidf_vectorizer.transform([cleaned_company_requirements])\n",
    "\n",
    "# Calculate cosine similarity between the company requirements and each resume\n",
    "similarity_scores = cosine_similarity(company_tfidf, tfidf_matrix).flatten()\n",
    "\n",
    "# Get the indices of resumes sorted by similarity score\n",
    "sorted_indices = similarity_scores.argsort()[::-1]\n",
    "\n",
    "# Display the top 5 most similar resumes\n",
    "top_n = 3\n",
    "for i in range(top_n):\n",
    "    index = sorted_indices[i]\n",
    "    print(f\"Resume ID: {data['ID'][index]}\")\n",
    "    print(f\"Similarity Score: {similarity_scores[index]}\")\n",
    "    print()"
   ]
  },
  {
   "cell_type": "markdown",
   "id": "587cac4c-b883-4855-b2da-65a34f692fd6",
   "metadata": {},
   "source": [
    "## Skill Extractor Function"
   ]
  },
  {
   "cell_type": "code",
   "execution_count": 12,
   "id": "a27f7f42-1780-456e-aec4-4a9218aa2b65",
   "metadata": {},
   "outputs": [],
   "source": [
    "def calculate_similarity(resume_text, required_skills):\n",
    "    # Process the resume text with the spaCy model\n",
    "    doc = nlp(resume_text)\n",
    "\n",
    "    # Extract skills from the resume using the entity ruler\n",
    "    skills = [ent.text.lower() for ent in doc.ents if ent.label_ == \"SKILL\"]\n",
    "\n",
    "    # Calculate the number of matching skills with required skills\n",
    "    matching_skills = [skill for skill in skills if skill in required_skills]\n",
    "    num_matching_skills = len(matching_skills)\n",
    "\n",
    "    # Calculate the similarity score\n",
    "    similarity_score = num_matching_skills / max(len(required_skills), len(skills))\n",
    "\n",
    "    return similarity_score"
   ]
  },
  {
   "cell_type": "code",
   "execution_count": 13,
   "id": "16d9831e-6b93-44bb-8001-95525a838591",
   "metadata": {},
   "outputs": [
    {
     "name": "stdout",
     "output_type": "stream",
     "text": [
      "Resume ID: 1\n",
      "Similarity Score: 0.16666666666666666\n",
      "Resume ID: 2\n",
      "Similarity Score: 1.0\n",
      "Resume ID: 3\n",
      "Similarity Score: 1.0\n"
     ]
    }
   ],
   "source": [
    "for index, resume_text in data[['cleaned_resume']].itertuples():\n",
    "  print(f\"Resume ID: {data['ID'][index]}\")\n",
    "  required_skills = [\"matplotlib\", \"python\", \"pandas\", \"seaborn\", \"sql\", \"mysql\"]\n",
    "  similarity_score = calculate_similarity(resume_text, required_skills)\n",
    "  print(\"Similarity Score:\", similarity_score)"
   ]
  },
  {
   "cell_type": "code",
   "execution_count": null,
   "id": "a3ea530f-8612-4504-b42e-4de98aa36bfd",
   "metadata": {},
   "outputs": [],
   "source": []
  }
 ],
 "metadata": {
  "kernelspec": {
   "display_name": "Python 3 (ipykernel)",
   "language": "python",
   "name": "python3"
  },
  "language_info": {
   "codemirror_mode": {
    "name": "ipython",
    "version": 3
   },
   "file_extension": ".py",
   "mimetype": "text/x-python",
   "name": "python",
   "nbconvert_exporter": "python",
   "pygments_lexer": "ipython3",
   "version": "3.10.0"
  }
 },
 "nbformat": 4,
 "nbformat_minor": 5
}
